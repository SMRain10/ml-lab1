{
 "cells": [
  {
   "attachments": {},
   "cell_type": "markdown",
   "metadata": {},
   "source": [
    "# Lab1 - Scikit-learn\n",
    "Author: Sam Rainbow\n",
    "\n",
    "## 1. Introduction\n",
    "\n",
    "The goal of this lab is to become familiar with the scikit-learn library.\n",
    "\n",
    "You will practice loading example datasets, perform classification and regression with linear scikit-learn models, and investigate the effects of reducing the number of features (columns in X) and the number of samples (rows in X and y).\n"
   ]
  },
  {
   "cell_type": "code",
   "execution_count": 3,
   "metadata": {},
   "outputs": [],
   "source": [
    "import numpy as np\n",
    "import pandas as pd\n",
    "import matplotlib.pyplot as plt\n",
    "import seaborn as sns"
   ]
  },
  {
   "cell_type": "markdown",
   "metadata": {},
   "source": [
    "## 2. Classification\n",
    "\n",
    "Using yellowbrick spam - classification  \n",
    "https://www.scikit-yb.org/en/latest/api/datasets/spam.html\n",
    "\n",
    "The goal is to investigate `LogisticRegression(max_iter=2000)` and effects of reducing the number of features and number of samples on classification performance."
   ]
  },
  {
   "cell_type": "markdown",
   "metadata": {},
   "source": [
    "### 2.1 Implement convenience function"
   ]
  },
  {
   "cell_type": "code",
   "execution_count": 2,
   "metadata": {},
   "outputs": [],
   "source": [
    "from sklearn.metrics import accuracy_score\n",
    "from sklearn.model_selection import train_test_split\n",
    "\n",
    "def get_classifier_accuracy(model, X, y):\n",
    "    '''Calculate train and validation accuracy of classifier (model)\n",
    "        \n",
    "        Splits feature matrix X and target vector y \n",
    "        with sklearn train_test_split() and random_state=956.\n",
    "        \n",
    "        model (sklearn classifier): Classifier to train and evaluate\n",
    "        X (numpy.array or pandas.DataFrame): Feature matrix\n",
    "        y (numpy.array or pandas.Series): Target vector\n",
    "        \n",
    "        returns: training accuracy, validation accuracy\n",
    "    \n",
    "    '''\n",
    "    \n",
    "    #TODO: IMPLEMENT FUNCTION BODY\n",
    "    X_train, X_test, y_train, y_test = train_test_split(X, y, random_state=956)\n",
    "    model.fit(X_train, y_train)\n",
    "    y_train_pred = model.predict(X_train)\n",
    "    y_test_pred = model.predict(X_test)\n",
    "    train_acc = accuracy_score(y_train, y_train_pred)\n",
    "    val_acc = accuracy_score(y_test, y_test_pred)\n",
    "    return train_acc, val_acc   "
   ]
  },
  {
   "cell_type": "markdown",
   "metadata": {},
   "source": [
    "### 2.2 Load data\n",
    "\n",
    "Use the yellowbrick function `load_spam()`, load the spam data set into feature matrix `X` and target vector `y`.\n",
    "\n",
    "Print size and type of `X` and `y`.\n"
   ]
  },
  {
   "cell_type": "code",
   "execution_count": 20,
   "metadata": {},
   "outputs": [
    {
     "name": "stdout",
     "output_type": "stream",
     "text": [
      "Size of X:  (4600, 57)  type:  <class 'pandas.core.frame.DataFrame'>\n",
      "Size of y:  (4600,)  type:  <class 'pandas.core.series.Series'>\n",
      "      word_freq_make  word_freq_address  word_freq_all  word_freq_3d  \\\n",
      "0               0.21               0.28           0.50           0.0   \n",
      "1               0.06               0.00           0.71           0.0   \n",
      "2               0.00               0.00           0.00           0.0   \n",
      "3               0.00               0.00           0.00           0.0   \n",
      "4               0.00               0.00           0.00           0.0   \n",
      "...              ...                ...            ...           ...   \n",
      "4595            0.31               0.00           0.62           0.0   \n",
      "4596            0.00               0.00           0.00           0.0   \n",
      "4597            0.30               0.00           0.30           0.0   \n",
      "4598            0.96               0.00           0.00           0.0   \n",
      "4599            0.00               0.00           0.65           0.0   \n",
      "\n",
      "      word_freq_our  word_freq_over  word_freq_remove  word_freq_internet  \\\n",
      "0              0.14            0.28              0.21                0.07   \n",
      "1              1.23            0.19              0.19                0.12   \n",
      "2              0.63            0.00              0.31                0.63   \n",
      "3              0.63            0.00              0.31                0.63   \n",
      "4              1.85            0.00              0.00                1.85   \n",
      "...             ...             ...               ...                 ...   \n",
      "4595           0.00            0.31              0.00                0.00   \n",
      "4596           0.00            0.00              0.00                0.00   \n",
      "4597           0.00            0.00              0.00                0.00   \n",
      "4598           0.32            0.00              0.00                0.00   \n",
      "4599           0.00            0.00              0.00                0.00   \n",
      "\n",
      "      word_freq_order  word_freq_mail  ...  word_freq_conference  char_freq_;  \\\n",
      "0                0.00            0.94  ...                   0.0        0.000   \n",
      "1                0.64            0.25  ...                   0.0        0.010   \n",
      "2                0.31            0.63  ...                   0.0        0.000   \n",
      "3                0.31            0.63  ...                   0.0        0.000   \n",
      "4                0.00            0.00  ...                   0.0        0.000   \n",
      "...               ...             ...  ...                   ...          ...   \n",
      "4595             0.00            0.00  ...                   0.0        0.000   \n",
      "4596             0.00            0.00  ...                   0.0        0.000   \n",
      "4597             0.00            0.00  ...                   0.0        0.102   \n",
      "4598             0.00            0.00  ...                   0.0        0.000   \n",
      "4599             0.00            0.00  ...                   0.0        0.000   \n",
      "\n",
      "      char_freq_(  char_freq_[  char_freq_!  char_freq_$  char_freq_#  \\\n",
      "0           0.132          0.0        0.372        0.180        0.048   \n",
      "1           0.143          0.0        0.276        0.184        0.010   \n",
      "2           0.137          0.0        0.137        0.000        0.000   \n",
      "3           0.135          0.0        0.135        0.000        0.000   \n",
      "4           0.223          0.0        0.000        0.000        0.000   \n",
      "...           ...          ...          ...          ...          ...   \n",
      "4595        0.232          0.0        0.000        0.000        0.000   \n",
      "4596        0.000          0.0        0.353        0.000        0.000   \n",
      "4597        0.718          0.0        0.000        0.000        0.000   \n",
      "4598        0.057          0.0        0.000        0.000        0.000   \n",
      "4599        0.000          0.0        0.125        0.000        0.000   \n",
      "\n",
      "      capital_run_length_average  capital_run_length_longest  \\\n",
      "0                          5.114                         101   \n",
      "1                          9.821                         485   \n",
      "2                          3.537                          40   \n",
      "3                          3.537                          40   \n",
      "4                          3.000                          15   \n",
      "...                          ...                         ...   \n",
      "4595                       1.142                           3   \n",
      "4596                       1.555                           4   \n",
      "4597                       1.404                           6   \n",
      "4598                       1.147                           5   \n",
      "4599                       1.250                           5   \n",
      "\n",
      "      capital_run_length_total  \n",
      "0                         1028  \n",
      "1                         2259  \n",
      "2                          191  \n",
      "3                          191  \n",
      "4                           54  \n",
      "...                        ...  \n",
      "4595                        88  \n",
      "4596                        14  \n",
      "4597                       118  \n",
      "4598                        78  \n",
      "4599                        40  \n",
      "\n",
      "[4600 rows x 57 columns]\n"
     ]
    }
   ],
   "source": [
    "# TODO: ADD YOUR CODE HERE\n",
    "from yellowbrick.datasets import load_spam\n",
    "\n",
    "X, y = load_spam()\n",
    "print(\"Size of X: \", X.shape, \" type: \", type(X))\n",
    "print(\"Size of y: \", y.shape, \" type: \", type(y))\n",
    "print(X)\n",
    "\n"
   ]
  },
  {
   "cell_type": "markdown",
   "metadata": {},
   "source": [
    "Using the sklearn function `train_test_split()` prepare a feature matrix `X_small` and target vector `y_small` that contain only **1%** of the rows. Use `random_state=174`.\n",
    "\n",
    "Print size and type of `X_small` and `y_small`."
   ]
  },
  {
   "cell_type": "code",
   "execution_count": 12,
   "metadata": {},
   "outputs": [
    {
     "name": "stdout",
     "output_type": "stream",
     "text": [
      "Size of X:  (46, 57)  type:  <class 'pandas.core.frame.DataFrame'>\n",
      "Size of y:  (46,)  type:  <class 'pandas.core.series.Series'>\n"
     ]
    }
   ],
   "source": [
    "# TODO: ADD YOUR CODE HERE\n",
    "X_small, _, y_small, _ = train_test_split(X,y, train_size = 0.01, random_state=174)\n",
    "print(\"Size of X: \", X_small.shape, \" type: \", type(X))\n",
    "print(\"Size of y: \", y_small.shape, \" type: \", type(y))\n"
   ]
  },
  {
   "cell_type": "markdown",
   "metadata": {},
   "source": [
    "### 2.3 Train and evaluate models\n",
    "\n",
    "1. Import `LogisticRegression` from sklearn\n",
    "2. Instantiate model `LogisticRegression(max_iter=2000)`.\n",
    "3. Create a pandas DataFrame `results` with columns: Data size, training accuracy, validation accuracy\n",
    "4. Call your convenience function `get_classifier_accuracy()` using \n",
    "    - `X` and `y`\n",
    "    - Only first two columns of `X` and `y`\n",
    "    - `X_small` and `y_small`\n",
    "5. Add the data size, training and validation accuracy for each call to the `results` DataFrame\n",
    "6. Print `results`"
   ]
  },
  {
   "cell_type": "code",
   "execution_count": 25,
   "metadata": {},
   "outputs": [
    {
     "name": "stdout",
     "output_type": "stream",
     "text": [
      "         Data Size  Training Accuracy  Validation Accuracy\n",
      "0          X and y           0.935072             0.917391\n",
      "1  First 2 columns           0.608986             0.613043\n",
      "2    X and y small           0.941176             0.750000\n"
     ]
    }
   ],
   "source": [
    "# TODO: ADD YOUR CODE HERE\n",
    "from sklearn.linear_model import LogisticRegression\n",
    "model = LogisticRegression(max_iter =2000)\n",
    "\n",
    "col = [\"Data Size\", \"Training Accuracy\", \"Validation Accuracy\"]\n",
    "results = pd.DataFrame(columns = col)\n",
    "\n",
    "t_acc, v_acc = get_classifier_accuracy(model, X, y)\n",
    "results.loc[0] = [\"X and y\",t_acc, v_acc]\n",
    "t_acc, v_acc = get_classifier_accuracy(model, X.iloc[:,:2], y)\n",
    "results.loc[1] = [\"First 2 columns\",t_acc, v_acc]\n",
    "t_acc, v_acc = get_classifier_accuracy(model, X_small, y_small)\n",
    "results.loc[2] = [\"X and y small\",t_acc, v_acc]\n",
    "\n",
    "print(results)"
   ]
  },
  {
   "attachments": {},
   "cell_type": "markdown",
   "metadata": {},
   "source": [
    "### 2.4 Questions\n",
    "1. What is the validation accuracy using all data? What is the difference between training and validation accuracy?\n",
    "2. How does the validation accuracy and difference between training and validation change when only two columns are used? Provide values.\n",
    "3. How does the validation accuracy and difference between training and validation change when only 1% of the rows are used? Provide values.\n",
    "\n",
    "1. The validation accuracy using all of the data is 0.917, with a difference of 0.018 between the training and validation accuracy. This indicates that model is accurately predicting unseen data.\n",
    "2. When only two columns are used the validation accuracy decreases substantially. The difference between the training accuracy (0.609) and validation accuracy (0.613) is still low\n",
    "\n",
    "\n"
   ]
  },
  {
   "cell_type": "markdown",
   "metadata": {},
   "source": [
    "## 3. Regression\n",
    "\n",
    "Using yellowbrick energy - regression  \n",
    "https://www.scikit-yb.org/en/latest/api/datasets/energy.html\n",
    "\n",
    "The goal is to investigate `LinearRegression()` and effects of reducing the number of features and number of samples on regression performance."
   ]
  },
  {
   "cell_type": "markdown",
   "metadata": {},
   "source": [
    "### 3.1 Implement convenience function"
   ]
  },
  {
   "cell_type": "code",
   "execution_count": null,
   "metadata": {},
   "outputs": [],
   "source": [
    "from sklearn.metrics import mean_squared_error\n",
    "from sklearn.model_selection import train_test_split\n",
    "\n",
    "def get_regressor_mse(model, X, y):\n",
    "    '''Calculate train and validation mean-squared error (mse) of regressor (model)\n",
    "        \n",
    "        Splits feature matrix X and target vector y \n",
    "        with sklearn train_test_split() and random_state=956.\n",
    "        \n",
    "        model (sklearn regressor): Regressor to train and evaluate\n",
    "        X (numpy.array or pandas.DataFrame): Feature matrix\n",
    "        y (numpy.array or pandas.Series): Target vector\n",
    "        \n",
    "        returns: training mse, validation mse\n",
    "    \n",
    "    '''\n",
    "   \n",
    "    #TODO: IMPLEMENT FUNCTION BODY\n",
    "    "
   ]
  },
  {
   "cell_type": "markdown",
   "metadata": {},
   "source": [
    "### 3.2 Load data\n",
    "\n",
    "Use the yellowbrick function `load_energy()` load the energy data set into feature matrix `X` and target vector `y`.\n",
    "\n",
    "Print dimensions and type of `X` and `y`."
   ]
  },
  {
   "cell_type": "code",
   "execution_count": null,
   "metadata": {},
   "outputs": [],
   "source": [
    "# TODO: ADD YOUR CODE HERE\n"
   ]
  },
  {
   "cell_type": "markdown",
   "metadata": {},
   "source": [
    "Using the sklearn function `train_test_split()` prepare a feature matrix `X_small` and target vector `y_small` that contain only **1%** of the rows. Use `random_state=174`.\n",
    "\n",
    "Print size and type of `X_small` and `y_small`."
   ]
  },
  {
   "cell_type": "code",
   "execution_count": null,
   "metadata": {},
   "outputs": [],
   "source": [
    "# TODO: ADD YOUR CODE HERE\n"
   ]
  },
  {
   "cell_type": "markdown",
   "metadata": {},
   "source": [
    "### 3.3 Train and evaluate models\n",
    "\n",
    "1. Import `LinearRegression` from sklearn\n",
    "2. Instantiate model `LinearRegression()`.\n",
    "3. Create a pandas DataFrame `results` with columns: Data size, training MSE, validation MSE\n",
    "4. Call your convenience function `get_regressor_mse()` using \n",
    "    - `X` and `y`\n",
    "    - Only first two columns of `X` and `y`\n",
    "    - `X_small` and `y_small`\n",
    "5. Add the data size, training and validation MSE for each call to the `results` DataFrame\n",
    "6. Print `results`"
   ]
  },
  {
   "cell_type": "code",
   "execution_count": null,
   "metadata": {},
   "outputs": [],
   "source": [
    "# TODO: ADD YOUR CODE HERE\n"
   ]
  },
  {
   "cell_type": "markdown",
   "metadata": {},
   "source": [
    "### 3.4 Questions\n",
    "1. What is the validation MSE using all data? What is the difference between training and validation MSE?\n",
    "1. How does the validation MSE and difference between training and validation change when only two columns are used? Provide values.\n",
    "1. How does the validation MSE and difference between training and validation change when only 1% of the rows are used? Provide values.\n",
    "\n",
    "*YOUR ANSWERS HERE*\n",
    "\n"
   ]
  },
  {
   "cell_type": "markdown",
   "metadata": {},
   "source": [
    "## 4. Observations/Interpretation\n",
    "\n",
    "Describe any pattern you see in the results. Relate your findings to what we discussed during lectures. Include data to justify your findings.\n",
    "\n",
    "\n",
    "*ADD YOUR FINDINGS HERE*\n",
    "\n"
   ]
  },
  {
   "cell_type": "markdown",
   "metadata": {},
   "source": [
    "## 5. Reflection\n",
    "Include a sentence or two about:\n",
    "- what you liked or disliked,\n",
    "- found interesting, confusing, challangeing, motivating\n",
    "while working on this assignment.\n",
    "\n",
    "\n",
    "*ADD YOUR THOUGHTS HERE*\n",
    "\n"
   ]
  }
 ],
 "metadata": {
  "kernelspec": {
   "display_name": "Python 3",
   "language": "python",
   "name": "python3"
  },
  "language_info": {
   "codemirror_mode": {
    "name": "ipython",
    "version": 3
   },
   "file_extension": ".py",
   "mimetype": "text/x-python",
   "name": "python",
   "nbconvert_exporter": "python",
   "pygments_lexer": "ipython3",
   "version": "3.10.7"
  },
  "vscode": {
   "interpreter": {
    "hash": "2c97521948b64ea5cd22154effa14a99dc236ccb0c4ec0ab2858c53feb37c87d"
   }
  }
 },
 "nbformat": 4,
 "nbformat_minor": 4
}
